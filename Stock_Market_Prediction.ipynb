{
 "cells": [
  {
   "cell_type": "code",
   "execution_count": 1,
   "metadata": {},
   "outputs": [],
   "source": [
    "import pandas_datareader as pdr"
   ]
  },
  {
   "cell_type": "code",
   "execution_count": 2,
   "metadata": {},
   "outputs": [],
   "source": [
    "import csv"
   ]
  },
  {
   "cell_type": "code",
   "execution_count": 3,
   "metadata": {},
   "outputs": [],
   "source": [
    "import pandas as pd"
   ]
  },
  {
   "cell_type": "code",
   "execution_count": 4,
   "metadata": {},
   "outputs": [],
   "source": [
    "df=pd.read_csv('tataglbl.csv')"
   ]
  },
  {
   "cell_type": "code",
   "execution_count": 5,
   "metadata": {},
   "outputs": [
    {
     "data": {
      "text/html": [
       "<div>\n",
       "<style scoped>\n",
       "    .dataframe tbody tr th:only-of-type {\n",
       "        vertical-align: middle;\n",
       "    }\n",
       "\n",
       "    .dataframe tbody tr th {\n",
       "        vertical-align: top;\n",
       "    }\n",
       "\n",
       "    .dataframe thead th {\n",
       "        text-align: right;\n",
       "    }\n",
       "</style>\n",
       "<table border=\"1\" class=\"dataframe\">\n",
       "  <thead>\n",
       "    <tr style=\"text-align: right;\">\n",
       "      <th></th>\n",
       "      <th>Date</th>\n",
       "      <th>Open</th>\n",
       "      <th>High</th>\n",
       "      <th>Low</th>\n",
       "      <th>Last</th>\n",
       "      <th>Close</th>\n",
       "      <th>Total Trade Quantity</th>\n",
       "      <th>Turnover (Lacs)</th>\n",
       "    </tr>\n",
       "  </thead>\n",
       "  <tbody>\n",
       "    <tr>\n",
       "      <th>0</th>\n",
       "      <td>2018-09-28</td>\n",
       "      <td>234.05</td>\n",
       "      <td>235.95</td>\n",
       "      <td>230.20</td>\n",
       "      <td>233.50</td>\n",
       "      <td>233.75</td>\n",
       "      <td>3069914</td>\n",
       "      <td>7162.35</td>\n",
       "    </tr>\n",
       "    <tr>\n",
       "      <th>1</th>\n",
       "      <td>2018-09-27</td>\n",
       "      <td>234.55</td>\n",
       "      <td>236.80</td>\n",
       "      <td>231.10</td>\n",
       "      <td>233.80</td>\n",
       "      <td>233.25</td>\n",
       "      <td>5082859</td>\n",
       "      <td>11859.95</td>\n",
       "    </tr>\n",
       "    <tr>\n",
       "      <th>2</th>\n",
       "      <td>2018-09-26</td>\n",
       "      <td>240.00</td>\n",
       "      <td>240.00</td>\n",
       "      <td>232.50</td>\n",
       "      <td>235.00</td>\n",
       "      <td>234.25</td>\n",
       "      <td>2240909</td>\n",
       "      <td>5248.60</td>\n",
       "    </tr>\n",
       "    <tr>\n",
       "      <th>3</th>\n",
       "      <td>2018-09-25</td>\n",
       "      <td>233.30</td>\n",
       "      <td>236.75</td>\n",
       "      <td>232.00</td>\n",
       "      <td>236.25</td>\n",
       "      <td>236.10</td>\n",
       "      <td>2349368</td>\n",
       "      <td>5503.90</td>\n",
       "    </tr>\n",
       "    <tr>\n",
       "      <th>4</th>\n",
       "      <td>2018-09-24</td>\n",
       "      <td>233.55</td>\n",
       "      <td>239.20</td>\n",
       "      <td>230.75</td>\n",
       "      <td>234.00</td>\n",
       "      <td>233.30</td>\n",
       "      <td>3423509</td>\n",
       "      <td>7999.55</td>\n",
       "    </tr>\n",
       "  </tbody>\n",
       "</table>\n",
       "</div>"
      ],
      "text/plain": [
       "         Date    Open    High     Low    Last   Close  Total Trade Quantity  \\\n",
       "0  2018-09-28  234.05  235.95  230.20  233.50  233.75               3069914   \n",
       "1  2018-09-27  234.55  236.80  231.10  233.80  233.25               5082859   \n",
       "2  2018-09-26  240.00  240.00  232.50  235.00  234.25               2240909   \n",
       "3  2018-09-25  233.30  236.75  232.00  236.25  236.10               2349368   \n",
       "4  2018-09-24  233.55  239.20  230.75  234.00  233.30               3423509   \n",
       "\n",
       "   Turnover (Lacs)  \n",
       "0          7162.35  \n",
       "1         11859.95  \n",
       "2          5248.60  \n",
       "3          5503.90  \n",
       "4          7999.55  "
      ]
     },
     "execution_count": 5,
     "metadata": {},
     "output_type": "execute_result"
    }
   ],
   "source": [
    "df.head()"
   ]
  },
  {
   "cell_type": "code",
   "execution_count": 6,
   "metadata": {},
   "outputs": [
    {
     "data": {
      "text/html": [
       "<div>\n",
       "<style scoped>\n",
       "    .dataframe tbody tr th:only-of-type {\n",
       "        vertical-align: middle;\n",
       "    }\n",
       "\n",
       "    .dataframe tbody tr th {\n",
       "        vertical-align: top;\n",
       "    }\n",
       "\n",
       "    .dataframe thead th {\n",
       "        text-align: right;\n",
       "    }\n",
       "</style>\n",
       "<table border=\"1\" class=\"dataframe\">\n",
       "  <thead>\n",
       "    <tr style=\"text-align: right;\">\n",
       "      <th></th>\n",
       "      <th>Date</th>\n",
       "      <th>Open</th>\n",
       "      <th>High</th>\n",
       "      <th>Low</th>\n",
       "      <th>Last</th>\n",
       "      <th>Close</th>\n",
       "      <th>Total Trade Quantity</th>\n",
       "      <th>Turnover (Lacs)</th>\n",
       "    </tr>\n",
       "  </thead>\n",
       "  <tbody>\n",
       "    <tr>\n",
       "      <th>2030</th>\n",
       "      <td>2010-07-27</td>\n",
       "      <td>117.6</td>\n",
       "      <td>119.50</td>\n",
       "      <td>112.00</td>\n",
       "      <td>118.80</td>\n",
       "      <td>118.65</td>\n",
       "      <td>586100</td>\n",
       "      <td>694.98</td>\n",
       "    </tr>\n",
       "    <tr>\n",
       "      <th>2031</th>\n",
       "      <td>2010-07-26</td>\n",
       "      <td>120.1</td>\n",
       "      <td>121.00</td>\n",
       "      <td>117.10</td>\n",
       "      <td>117.10</td>\n",
       "      <td>117.60</td>\n",
       "      <td>658440</td>\n",
       "      <td>780.01</td>\n",
       "    </tr>\n",
       "    <tr>\n",
       "      <th>2032</th>\n",
       "      <td>2010-07-23</td>\n",
       "      <td>121.8</td>\n",
       "      <td>121.95</td>\n",
       "      <td>120.25</td>\n",
       "      <td>120.35</td>\n",
       "      <td>120.65</td>\n",
       "      <td>281312</td>\n",
       "      <td>340.31</td>\n",
       "    </tr>\n",
       "    <tr>\n",
       "      <th>2033</th>\n",
       "      <td>2010-07-22</td>\n",
       "      <td>120.3</td>\n",
       "      <td>122.00</td>\n",
       "      <td>120.25</td>\n",
       "      <td>120.75</td>\n",
       "      <td>120.90</td>\n",
       "      <td>293312</td>\n",
       "      <td>355.17</td>\n",
       "    </tr>\n",
       "    <tr>\n",
       "      <th>2034</th>\n",
       "      <td>2010-07-21</td>\n",
       "      <td>122.1</td>\n",
       "      <td>123.00</td>\n",
       "      <td>121.05</td>\n",
       "      <td>121.10</td>\n",
       "      <td>121.55</td>\n",
       "      <td>658666</td>\n",
       "      <td>803.56</td>\n",
       "    </tr>\n",
       "  </tbody>\n",
       "</table>\n",
       "</div>"
      ],
      "text/plain": [
       "            Date   Open    High     Low    Last   Close  Total Trade Quantity  \\\n",
       "2030  2010-07-27  117.6  119.50  112.00  118.80  118.65                586100   \n",
       "2031  2010-07-26  120.1  121.00  117.10  117.10  117.60                658440   \n",
       "2032  2010-07-23  121.8  121.95  120.25  120.35  120.65                281312   \n",
       "2033  2010-07-22  120.3  122.00  120.25  120.75  120.90                293312   \n",
       "2034  2010-07-21  122.1  123.00  121.05  121.10  121.55                658666   \n",
       "\n",
       "      Turnover (Lacs)  \n",
       "2030           694.98  \n",
       "2031           780.01  \n",
       "2032           340.31  \n",
       "2033           355.17  \n",
       "2034           803.56  "
      ]
     },
     "execution_count": 6,
     "metadata": {},
     "output_type": "execute_result"
    }
   ],
   "source": [
    "df.tail()"
   ]
  },
  {
   "cell_type": "code",
   "execution_count": 7,
   "metadata": {},
   "outputs": [],
   "source": [
    "df1=df.reset_index()['Last']"
   ]
  },
  {
   "cell_type": "code",
   "execution_count": 8,
   "metadata": {},
   "outputs": [
    {
     "data": {
      "text/plain": [
       "0       233.50\n",
       "1       233.80\n",
       "2       235.00\n",
       "3       236.25\n",
       "4       234.00\n",
       "         ...  \n",
       "2030    118.80\n",
       "2031    117.10\n",
       "2032    120.35\n",
       "2033    120.75\n",
       "2034    121.10\n",
       "Name: Last, Length: 2035, dtype: float64"
      ]
     },
     "execution_count": 8,
     "metadata": {},
     "output_type": "execute_result"
    }
   ],
   "source": [
    "df1"
   ]
  },
  {
   "cell_type": "code",
   "execution_count": 9,
   "metadata": {},
   "outputs": [
    {
     "data": {
      "text/plain": [
       "(2035,)"
      ]
     },
     "execution_count": 9,
     "metadata": {},
     "output_type": "execute_result"
    }
   ],
   "source": [
    "df1.shape"
   ]
  },
  {
   "cell_type": "code",
   "execution_count": 10,
   "metadata": {},
   "outputs": [
    {
     "data": {
      "text/plain": [
       "[<matplotlib.lines.Line2D at 0x1a73ecf5600>]"
      ]
     },
     "execution_count": 10,
     "metadata": {},
     "output_type": "execute_result"
    },
    {
     "data": {
      "image/png": "[encoded data removed]",
      "text/plain": [
       "<Figure size 432x288 with 1 Axes>"
      ]
     },
     "metadata": {
      "needs_background": "light"
     },
     "output_type": "display_data"
    }
   ],
   "source": [
    "import matplotlib.pyplot as plt\n",
    "plt.plot(df1)"
   ]
  },
  {
   "cell_type": "code",
   "execution_count": 11,
   "metadata": {},
   "outputs": [],
   "source": [
    "import numpy as np"
   ]
  },
  {
   "cell_type": "code",
   "execution_count": 12,
   "metadata": {},
   "outputs": [],
   "source": [
    "from sklearn.preprocessing import MinMaxScaler\n",
    "scaler=MinMaxScaler(feature_range=(0,1))\n",
    "df1=scaler.fit_transform(np.array(df1).reshape(-1,1))"
   ]
  },
  {
   "cell_type": "code",
   "execution_count": 13,
   "metadata": {},
   "outputs": [
    {
     "name": "stdout",
     "output_type": "stream",
     "text": [
      "[[0.62257604]\n",
      " [0.62380078]\n",
      " [0.62869973]\n",
      " ...\n",
      " [0.16064503]\n",
      " [0.16227802]\n",
      " [0.16370688]]\n"
     ]
    }
   ],
   "source": [
    "print(df1)"
   ]
  },
  {
   "cell_type": "code",
   "execution_count": 14,
   "metadata": {},
   "outputs": [],
   "source": [
    "training_size=int(len(df1)*0.65)\n",
    "test_size=len(df1)-training_size\n",
    "train_data,test_data=df1[0:training_size,:],df1[training_size:len(df1),:1]"
   ]
  },
  {
   "cell_type": "code",
   "execution_count": 15,
   "metadata": {},
   "outputs": [
    {
     "data": {
      "text/plain": [
       "(1322, 713)"
      ]
     },
     "execution_count": 15,
     "metadata": {},
     "output_type": "execute_result"
    }
   ],
   "source": [
    "training_size,test_size"
   ]
  },
  {
   "cell_type": "code",
   "execution_count": 16,
   "metadata": {},
   "outputs": [
    {
     "data": {
      "text/plain": [
       "array([[0.62257604],\n",
       "       [0.62380078],\n",
       "       [0.62869973],\n",
       "       ...,\n",
       "       [0.25290876],\n",
       "       [0.26005307],\n",
       "       [0.2567871 ]])"
      ]
     },
     "execution_count": 16,
     "metadata": {},
     "output_type": "execute_result"
    }
   ],
   "source": [
    "train_data"
   ]
  },
  {
   "cell_type": "code",
   "execution_count": 17,
   "metadata": {},
   "outputs": [],
   "source": [
    "import numpy\n",
    "# convert an array of values into a dataset matrix\n",
    "def create_dataset(dataset, time_step=1):\n",
    "\tdataX, dataY = [], []\n",
    "\tfor i in range(len(dataset)-time_step-1):\n",
    "\t\ta = dataset[i:(i+time_step), 0]   ###i=0, 0,1,2,3-----99   100 \n",
    "\t\tdataX.append(a)\n",
    "\t\tdataY.append(dataset[i + time_step, 0])\n",
    "\treturn numpy.array(dataX), numpy.array(dataY)"
   ]
  },
  {
   "cell_type": "code",
   "execution_count": 18,
   "metadata": {},
   "outputs": [],
   "source": [
    "# reshape into X=t,t+1,t+2,t+3 and Y=t+4\n",
    "time_step = 100\n",
    "X_train, y_train = create_dataset(train_data, time_step)\n",
    "X_test, ytest = create_dataset(test_data, time_step)"
   ]
  },
  {
   "cell_type": "code",
   "execution_count": 19,
   "metadata": {},
   "outputs": [
    {
     "name": "stdout",
     "output_type": "stream",
     "text": [
      "(1221, 100)\n",
      "(1221,)\n"
     ]
    },
    {
     "data": {
      "text/plain": [
       "(None, None)"
      ]
     },
     "execution_count": 19,
     "metadata": {},
     "output_type": "execute_result"
    }
   ],
   "source": [
    "print(X_train.shape), print(y_train.shape)"
   ]
  },
  {
   "cell_type": "code",
   "execution_count": 20,
   "metadata": {},
   "outputs": [
    {
     "name": "stdout",
     "output_type": "stream",
     "text": [
      "(612, 100)\n",
      "(612,)\n"
     ]
    },
    {
     "data": {
      "text/plain": [
       "(None, None)"
      ]
     },
     "execution_count": 20,
     "metadata": {},
     "output_type": "execute_result"
    }
   ],
   "source": [
    "print(X_test.shape), print(ytest.shape)"
   ]
  },
  {
   "cell_type": "code",
   "execution_count": 21,
   "metadata": {},
   "outputs": [],
   "source": [
    "# reshape input to be [samples, time steps, features] which is required for LSTM\n",
    "X_train =X_train.reshape(X_train.shape[0],X_train.shape[1] , 1)\n",
    "X_test = X_test.reshape(X_test.shape[0],X_test.shape[1] , 1)"
   ]
  },
  {
   "cell_type": "code",
   "execution_count": 22,
   "metadata": {},
   "outputs": [],
   "source": [
    "import tensorflow as tf\n",
    "from tensorflow.keras.models import Sequential\n",
    "from tensorflow.keras.layers import Dense"
   ]
  },
  {
   "cell_type": "code",
   "execution_count": 23,
   "metadata": {},
   "outputs": [],
   "source": [
    "### Create the Stacked LSTM model\n",
    "from tensorflow.keras.models import Sequential\n",
    "from tensorflow.keras.layers import Dense\n",
    "from tensorflow.keras.layers import LSTM"
   ]
  },
  {
   "cell_type": "code",
   "execution_count": 24,
   "metadata": {},
   "outputs": [],
   "source": [
    "model=Sequential()\n",
    "model.add(LSTM(50,return_sequences=True,input_shape=(100,1)))\n",
    "model.add(LSTM(50,return_sequences=True))\n",
    "model.add(LSTM(50))\n",
    "model.add(Dense(1))\n",
    "model.compile(loss='mean_squared_error',optimizer='adam')"
   ]
  },
  {
   "cell_type": "code",
   "execution_count": 25,
   "metadata": {},
   "outputs": [
    {
     "name": "stdout",
     "output_type": "stream",
     "text": [
      "Model: \"sequential\"\n",
      "_________________________________________________________________\n",
      " Layer (type)                Output Shape              Param #   \n",
      "=================================================================\n",
      " lstm (LSTM)                 (None, 100, 50)           10400     \n",
      "                                                                 \n",
      " lstm_1 (LSTM)               (None, 100, 50)           20200     \n",
      "                                                                 \n",
      " lstm_2 (LSTM)               (None, 50)                20200     \n",
      "                                                                 \n",
      " dense (Dense)               (None, 1)                 51        \n",
      "                                                                 \n",
      "=================================================================\n",
      "Total params: 50,851\n",
      "Trainable params: 50,851\n",
      "Non-trainable params: 0\n",
      "_________________________________________________________________\n"
     ]
    }
   ],
   "source": [
    "model.summary()"
   ]
  },
  {
   "cell_type": "code",
   "execution_count": 26,
   "metadata": {},
   "outputs": [
    {
     "name": "stdout",
     "output_type": "stream",
     "text": [
      "Model: \"sequential\"\n",
      "_________________________________________________________________\n",
      " Layer (type)                Output Shape              Param #   \n",
      "=================================================================\n",
      " lstm (LSTM)                 (None, 100, 50)           10400     \n",
      "                                                                 \n",
      " lstm_1 (LSTM)               (None, 100, 50)           20200     \n",
      "                                                                 \n",
      " lstm_2 (LSTM)               (None, 50)                20200     \n",
      "                                                                 \n",
      " dense (Dense)               (None, 1)                 51        \n",
      "                                                                 \n",
      "=================================================================\n",
      "Total params: 50,851\n",
      "Trainable params: 50,851\n",
      "Non-trainable params: 0\n",
      "_________________________________________________________________\n"
     ]
    }
   ],
   "source": [
    "model.summary()"
   ]
  },
  {
   "cell_type": "code",
   "execution_count": 27,
   "metadata": {},
   "outputs": [
    {
     "name": "stdout",
     "output_type": "stream",
     "text": [
      "Epoch 1/10\n",
      "20/20 [==============================] - 21s 536ms/step - loss: 0.0252 - val_loss: 0.0059\n",
      "Epoch 2/10\n",
      "20/20 [==============================] - 19s 965ms/step - loss: 0.0034 - val_loss: 0.0013\n",
      "Epoch 3/10\n",
      "20/20 [==============================] - 21s 1s/step - loss: 0.0018 - val_loss: 0.0014\n",
      "Epoch 4/10\n",
      "20/20 [==============================] - 20s 1s/step - loss: 0.0016 - val_loss: 0.0013\n",
      "Epoch 5/10\n",
      "20/20 [==============================] - 20s 987ms/step - loss: 0.0015 - val_loss: 0.0012\n",
      "Epoch 6/10\n",
      "20/20 [==============================] - 15s 749ms/step - loss: 0.0014 - val_loss: 0.0012\n",
      "Epoch 7/10\n",
      "20/20 [==============================] - 15s 779ms/step - loss: 0.0013 - val_loss: 0.0012\n",
      "Epoch 8/10\n",
      "20/20 [==============================] - 15s 735ms/step - loss: 0.0014 - val_loss: 0.0010\n",
      "Epoch 9/10\n",
      "20/20 [==============================] - 15s 767ms/step - loss: 0.0013 - val_loss: 0.0013\n",
      "Epoch 10/10\n",
      "20/20 [==============================] - 15s 766ms/step - loss: 0.0013 - val_loss: 9.4915e-04\n"
     ]
    },
    {
     "data": {
      "text/plain": [
       "<keras.callbacks.History at 0x1a750cabeb0>"
      ]
     },
     "execution_count": 27,
     "metadata": {},
     "output_type": "execute_result"
    }
   ],
   "source": [
    "model.fit(X_train,y_train,validation_data=(X_test,ytest),epochs=10,batch_size=64,verbose=1)"
   ]
  },
  {
   "cell_type": "code",
   "execution_count": 28,
   "metadata": {},
   "outputs": [],
   "source": [
    "import tensorflow as tf"
   ]
  },
  {
   "cell_type": "code",
   "execution_count": 29,
   "metadata": {},
   "outputs": [
    {
     "data": {
      "text/plain": [
       "'2.8.0-rc1'"
      ]
     },
     "execution_count": 29,
     "metadata": {},
     "output_type": "execute_result"
    }
   ],
   "source": [
    "tf.__version__"
   ]
  },
  {
   "cell_type": "code",
   "execution_count": 30,
   "metadata": {},
   "outputs": [],
   "source": [
    "### Lets Do the prediction and check performance metrics\n",
    "train_predict=model.predict(X_train)\n",
    "test_predict=model.predict(X_test)"
   ]
  },
  {
   "cell_type": "code",
   "execution_count": 31,
   "metadata": {},
   "outputs": [],
   "source": [
    "##Transformback to original form\n",
    "train_predict=scaler.inverse_transform(train_predict)\n",
    "test_predict=scaler.inverse_transform(test_predict)"
   ]
  },
  {
   "cell_type": "code",
   "execution_count": 32,
   "metadata": {},
   "outputs": [
    {
     "data": {
      "text/plain": [
       "164.76672196183745"
      ]
     },
     "execution_count": 32,
     "metadata": {},
     "output_type": "execute_result"
    }
   ],
   "source": [
    "### Calculate RMSE performance metrics\n",
    "import math\n",
    "from sklearn.metrics import mean_squared_error\n",
    "math.sqrt(mean_squared_error(y_train,train_predict))"
   ]
  },
  {
   "cell_type": "code",
   "execution_count": 33,
   "metadata": {},
   "outputs": [
    {
     "data": {
      "text/plain": [
       "118.5230205944686"
      ]
     },
     "execution_count": 33,
     "metadata": {},
     "output_type": "execute_result"
    }
   ],
   "source": [
    "### Test Data RMSE\n",
    "math.sqrt(mean_squared_error(ytest,test_predict))"
   ]
  },
  {
   "cell_type": "code",
   "execution_count": 34,
   "metadata": {},
   "outputs": [
    {
     "data": {
      "image/png": "[encoded data removed]",
      "text/plain": [
       "<Figure size 432x288 with 1 Axes>"
      ]
     },
     "metadata": {
      "needs_background": "light"
     },
     "output_type": "display_data"
    }
   ],
   "source": [
    "### Plotting \n",
    "# shift train predictions for plotting\n",
    "look_back=100\n",
    "trainPredictPlot = numpy.empty_like(df1)\n",
    "trainPredictPlot[:, :] = np.nan\n",
    "trainPredictPlot[look_back:len(train_predict)+look_back, :] = train_predict\n",
    "# shift test predictions for plotting\n",
    "testPredictPlot = numpy.empty_like(df1)\n",
    "testPredictPlot[:, :] = numpy.nan\n",
    "testPredictPlot[len(train_predict)+(look_back*2)+1:len(df1)-1, :] = test_predict\n",
    "# plot baseline and predictions\n",
    "plt.plot(scaler.inverse_transform(df1))\n",
    "plt.plot(trainPredictPlot)\n",
    "plt.plot(testPredictPlot)\n",
    "plt.show()"
   ]
  },
  {
   "cell_type": "code",
   "execution_count": 35,
   "metadata": {},
   "outputs": [
    {
     "data": {
      "text/plain": [
       "713"
      ]
     },
     "execution_count": 35,
     "metadata": {},
     "output_type": "execute_result"
    }
   ],
   "source": [
    "len(test_data)"
   ]
  },
  {
   "cell_type": "code",
   "execution_count": 36,
   "metadata": {},
   "outputs": [
    {
     "data": {
      "text/plain": [
       "(1, 100)"
      ]
     },
     "execution_count": 36,
     "metadata": {},
     "output_type": "execute_result"
    }
   ],
   "source": [
    "x_input=test_data[613:].reshape(1,-1)\n",
    "x_input.shape"
   ]
  },
  {
   "cell_type": "code",
   "execution_count": 37,
   "metadata": {},
   "outputs": [],
   "source": [
    "temp_input=list(x_input)\n",
    "temp_input=temp_input[0].tolist()"
   ]
  },
  {
   "cell_type": "code",
   "execution_count": 38,
   "metadata": {},
   "outputs": [
    {
     "data": {
      "text/plain": [
       "[0.12410696060420495,\n",
       " 0.13798734435599097,\n",
       " 0.14166156358440496,\n",
       " 0.13778322106552354,\n",
       " 0.1326801388038375,\n",
       " 0.14104919371300262,\n",
       " 0.13676260461318634,\n",
       " 0.1306389058991631,\n",
       " 0.13104715248009796,\n",
       " 0.1306389058991631,\n",
       " 0.12451520718513981,\n",
       " 0.14696876913655849,\n",
       " 0.14798938558889568,\n",
       " 0.15513370075525618,\n",
       " 0.13921208409879565,\n",
       " 0.15717493365993057,\n",
       " 0.16125739946927942,\n",
       " 0.1796284956113492,\n",
       " 0.178607879159012,\n",
       " 0.19310063278220047,\n",
       " 0.20902224943866088,\n",
       " 0.1906511532965911,\n",
       " 0.18044498877321902,\n",
       " 0.1824862216778934,\n",
       " 0.17697489283527246,\n",
       " 0.17677076954480508,\n",
       " 0.18044498877321902,\n",
       " 0.1775872627066748,\n",
       " 0.17595427638293526,\n",
       " 0.19840783833435394,\n",
       " 0.19044703000612373,\n",
       " 0.18738518064911203,\n",
       " 0.19432537252500504,\n",
       " 0.1967748520106144,\n",
       " 0.20228618085323535,\n",
       " 0.1967748520106144,\n",
       " 0.20004082465809347,\n",
       " 0.199836701367626,\n",
       " 0.20208205756276787,\n",
       " 0.21310471524800978,\n",
       " 0.21555419473361914,\n",
       " 0.2049397836293121,\n",
       " 0.21739130434782605,\n",
       " 0.21269646866707492,\n",
       " 0.21535007144315166,\n",
       " 0.19799959175341908,\n",
       " 0.1898346601347214,\n",
       " 0.17636252296387023,\n",
       " 0.17391304347826086,\n",
       " 0.1635027556644213,\n",
       " 0.16431924882629106,\n",
       " 0.17187181057358636,\n",
       " 0.17370892018779338,\n",
       " 0.1796284956113492,\n",
       " 0.17391304347826086,\n",
       " 0.16125739946927942,\n",
       " 0.1694223310879771,\n",
       " 0.17881200244947948,\n",
       " 0.17207593386405395,\n",
       " 0.16901408450704225,\n",
       " 0.17187181057358636,\n",
       " 0.17513778322106555,\n",
       " 0.18309859154929575,\n",
       " 0.19024290671565625,\n",
       " 0.18595631761583997,\n",
       " 0.19003878342518876,\n",
       " 0.173504796897326,\n",
       " 0.1673810981833027,\n",
       " 0.16921820779750968,\n",
       " 0.17023882424984693,\n",
       " 0.16227801592161667,\n",
       " 0.15064298836497247,\n",
       " 0.15207185139824453,\n",
       " 0.15105123494590733,\n",
       " 0.14696876913655849,\n",
       " 0.14594815268422123,\n",
       " 0.14553990610328638,\n",
       " 0.12390283731373747,\n",
       " 0.13206776893243516,\n",
       " 0.11226780975709327,\n",
       " 0.11920800163298634,\n",
       " 0.12655644008981426,\n",
       " 0.1351296182894468,\n",
       " 0.12982241273729328,\n",
       " 0.13431312512757704,\n",
       " 0.1267605633802817,\n",
       " 0.13145539906103287,\n",
       " 0.12737293325168403,\n",
       " 0.1351296182894468,\n",
       " 0.14553990610328638,\n",
       " 0.15370483772198407,\n",
       " 0.1514594815268422,\n",
       " 0.14227393345580724,\n",
       " 0.14901000204123288,\n",
       " 0.15166360481730967,\n",
       " 0.1543172075933864,\n",
       " 0.14737701571749334,\n",
       " 0.16064502959787708,\n",
       " 0.16227801592161667,\n",
       " 0.16370687895488872]"
      ]
     },
     "execution_count": 38,
     "metadata": {},
     "output_type": "execute_result"
    }
   ],
   "source": [
    "temp_input"
   ]
  },
  {
   "cell_type": "code",
   "execution_count": 39,
   "metadata": {},
   "outputs": [
    {
     "name": "stdout",
     "output_type": "stream",
     "text": [
      "[0.15535614]\n",
      "101\n",
      "1 day input [0.13798734 0.14166156 0.13778322 0.13268014 0.14104919 0.1367626\n",
      " 0.13063891 0.13104715 0.13063891 0.12451521 0.14696877 0.14798939\n",
      " 0.1551337  0.13921208 0.15717493 0.1612574  0.1796285  0.17860788\n",
      " 0.19310063 0.20902225 0.19065115 0.18044499 0.18248622 0.17697489\n",
      " 0.17677077 0.18044499 0.17758726 0.17595428 0.19840784 0.19044703\n",
      " 0.18738518 0.19432537 0.19677485 0.20228618 0.19677485 0.20004082\n",
      " 0.1998367  0.20208206 0.21310472 0.21555419 0.20493978 0.2173913\n",
      " 0.21269647 0.21535007 0.19799959 0.18983466 0.17636252 0.17391304\n",
      " 0.16350276 0.16431925 0.17187181 0.17370892 0.1796285  0.17391304\n",
      " 0.1612574  0.16942233 0.178812   0.17207593 0.16901408 0.17187181\n",
      " 0.17513778 0.18309859 0.19024291 0.18595632 0.19003878 0.1735048\n",
      " 0.1673811  0.16921821 0.17023882 0.16227802 0.15064299 0.15207185\n",
      " 0.15105123 0.14696877 0.14594815 0.14553991 0.12390284 0.13206777\n",
      " 0.11226781 0.119208   0.12655644 0.13512962 0.12982241 0.13431313\n",
      " 0.12676056 0.1314554  0.12737293 0.13512962 0.14553991 0.15370484\n",
      " 0.15145948 0.14227393 0.14901    0.1516636  0.15431721 0.14737702\n",
      " 0.16064503 0.16227802 0.16370688 0.15535614]\n",
      "1 day output [[0.15709259]]\n",
      "2 day input [0.14166156 0.13778322 0.13268014 0.14104919 0.1367626  0.13063891\n",
      " 0.13104715 0.13063891 0.12451521 0.14696877 0.14798939 0.1551337\n",
      " 0.13921208 0.15717493 0.1612574  0.1796285  0.17860788 0.19310063\n",
      " 0.20902225 0.19065115 0.18044499 0.18248622 0.17697489 0.17677077\n",
      " 0.18044499 0.17758726 0.17595428 0.19840784 0.19044703 0.18738518\n",
      " 0.19432537 0.19677485 0.20228618 0.19677485 0.20004082 0.1998367\n",
      " 0.20208206 0.21310472 0.21555419 0.20493978 0.2173913  0.21269647\n",
      " 0.21535007 0.19799959 0.18983466 0.17636252 0.17391304 0.16350276\n",
      " 0.16431925 0.17187181 0.17370892 0.1796285  0.17391304 0.1612574\n",
      " 0.16942233 0.178812   0.17207593 0.16901408 0.17187181 0.17513778\n",
      " 0.18309859 0.19024291 0.18595632 0.19003878 0.1735048  0.1673811\n",
      " 0.16921821 0.17023882 0.16227802 0.15064299 0.15207185 0.15105123\n",
      " 0.14696877 0.14594815 0.14553991 0.12390284 0.13206777 0.11226781\n",
      " 0.119208   0.12655644 0.13512962 0.12982241 0.13431313 0.12676056\n",
      " 0.1314554  0.12737293 0.13512962 0.14553991 0.15370484 0.15145948\n",
      " 0.14227393 0.14901    0.1516636  0.15431721 0.14737702 0.16064503\n",
      " 0.16227802 0.16370688 0.15535614 0.15709259]\n",
      "2 day output [[0.15872689]]\n",
      "3 day input [0.13778322 0.13268014 0.14104919 0.1367626  0.13063891 0.13104715\n",
      " 0.13063891 0.12451521 0.14696877 0.14798939 0.1551337  0.13921208\n",
      " 0.15717493 0.1612574  0.1796285  0.17860788 0.19310063 0.20902225\n",
      " 0.19065115 0.18044499 0.18248622 0.17697489 0.17677077 0.18044499\n",
      " 0.17758726 0.17595428 0.19840784 0.19044703 0.18738518 0.19432537\n",
      " 0.19677485 0.20228618 0.19677485 0.20004082 0.1998367  0.20208206\n",
      " 0.21310472 0.21555419 0.20493978 0.2173913  0.21269647 0.21535007\n",
      " 0.19799959 0.18983466 0.17636252 0.17391304 0.16350276 0.16431925\n",
      " 0.17187181 0.17370892 0.1796285  0.17391304 0.1612574  0.16942233\n",
      " 0.178812   0.17207593 0.16901408 0.17187181 0.17513778 0.18309859\n",
      " 0.19024291 0.18595632 0.19003878 0.1735048  0.1673811  0.16921821\n",
      " 0.17023882 0.16227802 0.15064299 0.15207185 0.15105123 0.14696877\n",
      " 0.14594815 0.14553991 0.12390284 0.13206777 0.11226781 0.119208\n",
      " 0.12655644 0.13512962 0.12982241 0.13431313 0.12676056 0.1314554\n",
      " 0.12737293 0.13512962 0.14553991 0.15370484 0.15145948 0.14227393\n",
      " 0.14901    0.1516636  0.15431721 0.14737702 0.16064503 0.16227802\n",
      " 0.16370688 0.15535614 0.15709259 0.15872689]\n",
      "3 day output [[0.1602338]]\n",
      "4 day input [0.13268014 0.14104919 0.1367626  0.13063891 0.13104715 0.13063891\n",
      " 0.12451521 0.14696877 0.14798939 0.1551337  0.13921208 0.15717493\n",
      " 0.1612574  0.1796285  0.17860788 0.19310063 0.20902225 0.19065115\n",
      " 0.18044499 0.18248622 0.17697489 0.17677077 0.18044499 0.17758726\n",
      " 0.17595428 0.19840784 0.19044703 0.18738518 0.19432537 0.19677485\n",
      " 0.20228618 0.19677485 0.20004082 0.1998367  0.20208206 0.21310472\n",
      " 0.21555419 0.20493978 0.2173913  0.21269647 0.21535007 0.19799959\n",
      " 0.18983466 0.17636252 0.17391304 0.16350276 0.16431925 0.17187181\n",
      " 0.17370892 0.1796285  0.17391304 0.1612574  0.16942233 0.178812\n",
      " 0.17207593 0.16901408 0.17187181 0.17513778 0.18309859 0.19024291\n",
      " 0.18595632 0.19003878 0.1735048  0.1673811  0.16921821 0.17023882\n",
      " 0.16227802 0.15064299 0.15207185 0.15105123 0.14696877 0.14594815\n",
      " 0.14553991 0.12390284 0.13206777 0.11226781 0.119208   0.12655644\n",
      " 0.13512962 0.12982241 0.13431313 0.12676056 0.1314554  0.12737293\n",
      " 0.13512962 0.14553991 0.15370484 0.15145948 0.14227393 0.14901\n",
      " 0.1516636  0.15431721 0.14737702 0.16064503 0.16227802 0.16370688\n",
      " 0.15535614 0.15709259 0.15872689 0.1602338 ]\n",
      "4 day output [[0.16161224]]\n",
      "5 day input [0.14104919 0.1367626  0.13063891 0.13104715 0.13063891 0.12451521\n",
      " 0.14696877 0.14798939 0.1551337  0.13921208 0.15717493 0.1612574\n",
      " 0.1796285  0.17860788 0.19310063 0.20902225 0.19065115 0.18044499\n",
      " 0.18248622 0.17697489 0.17677077 0.18044499 0.17758726 0.17595428\n",
      " 0.19840784 0.19044703 0.18738518 0.19432537 0.19677485 0.20228618\n",
      " 0.19677485 0.20004082 0.1998367  0.20208206 0.21310472 0.21555419\n",
      " 0.20493978 0.2173913  0.21269647 0.21535007 0.19799959 0.18983466\n",
      " 0.17636252 0.17391304 0.16350276 0.16431925 0.17187181 0.17370892\n",
      " 0.1796285  0.17391304 0.1612574  0.16942233 0.178812   0.17207593\n",
      " 0.16901408 0.17187181 0.17513778 0.18309859 0.19024291 0.18595632\n",
      " 0.19003878 0.1735048  0.1673811  0.16921821 0.17023882 0.16227802\n",
      " 0.15064299 0.15207185 0.15105123 0.14696877 0.14594815 0.14553991\n",
      " 0.12390284 0.13206777 0.11226781 0.119208   0.12655644 0.13512962\n",
      " 0.12982241 0.13431313 0.12676056 0.1314554  0.12737293 0.13512962\n",
      " 0.14553991 0.15370484 0.15145948 0.14227393 0.14901    0.1516636\n",
      " 0.15431721 0.14737702 0.16064503 0.16227802 0.16370688 0.15535614\n",
      " 0.15709259 0.15872689 0.1602338  0.16161224]\n",
      "5 day output [[0.16287392]]\n",
      "6 day input [0.1367626  0.13063891 0.13104715 0.13063891 0.12451521 0.14696877\n",
      " 0.14798939 0.1551337  0.13921208 0.15717493 0.1612574  0.1796285\n",
      " 0.17860788 0.19310063 0.20902225 0.19065115 0.18044499 0.18248622\n",
      " 0.17697489 0.17677077 0.18044499 0.17758726 0.17595428 0.19840784\n",
      " 0.19044703 0.18738518 0.19432537 0.19677485 0.20228618 0.19677485\n",
      " 0.20004082 0.1998367  0.20208206 0.21310472 0.21555419 0.20493978\n",
      " 0.2173913  0.21269647 0.21535007 0.19799959 0.18983466 0.17636252\n",
      " 0.17391304 0.16350276 0.16431925 0.17187181 0.17370892 0.1796285\n",
      " 0.17391304 0.1612574  0.16942233 0.178812   0.17207593 0.16901408\n",
      " 0.17187181 0.17513778 0.18309859 0.19024291 0.18595632 0.19003878\n",
      " 0.1735048  0.1673811  0.16921821 0.17023882 0.16227802 0.15064299\n",
      " 0.15207185 0.15105123 0.14696877 0.14594815 0.14553991 0.12390284\n",
      " 0.13206777 0.11226781 0.119208   0.12655644 0.13512962 0.12982241\n",
      " 0.13431313 0.12676056 0.1314554  0.12737293 0.13512962 0.14553991\n",
      " 0.15370484 0.15145948 0.14227393 0.14901    0.1516636  0.15431721\n",
      " 0.14737702 0.16064503 0.16227802 0.16370688 0.15535614 0.15709259\n",
      " 0.15872689 0.1602338  0.16161224 0.16287392]\n",
      "6 day output [[0.1640361]]\n",
      "7 day input [0.13063891 0.13104715 0.13063891 0.12451521 0.14696877 0.14798939\n",
      " 0.1551337  0.13921208 0.15717493 0.1612574  0.1796285  0.17860788\n",
      " 0.19310063 0.20902225 0.19065115 0.18044499 0.18248622 0.17697489\n",
      " 0.17677077 0.18044499 0.17758726 0.17595428 0.19840784 0.19044703\n",
      " 0.18738518 0.19432537 0.19677485 0.20228618 0.19677485 0.20004082\n",
      " 0.1998367  0.20208206 0.21310472 0.21555419 0.20493978 0.2173913\n",
      " 0.21269647 0.21535007 0.19799959 0.18983466 0.17636252 0.17391304\n",
      " 0.16350276 0.16431925 0.17187181 0.17370892 0.1796285  0.17391304\n",
      " 0.1612574  0.16942233 0.178812   0.17207593 0.16901408 0.17187181\n",
      " 0.17513778 0.18309859 0.19024291 0.18595632 0.19003878 0.1735048\n",
      " 0.1673811  0.16921821 0.17023882 0.16227802 0.15064299 0.15207185\n",
      " 0.15105123 0.14696877 0.14594815 0.14553991 0.12390284 0.13206777\n",
      " 0.11226781 0.119208   0.12655644 0.13512962 0.12982241 0.13431313\n",
      " 0.12676056 0.1314554  0.12737293 0.13512962 0.14553991 0.15370484\n",
      " 0.15145948 0.14227393 0.14901    0.1516636  0.15431721 0.14737702\n",
      " 0.16064503 0.16227802 0.16370688 0.15535614 0.15709259 0.15872689\n",
      " 0.1602338  0.16161224 0.16287392 0.1640361 ]\n",
      "7 day output [[0.16511685]]\n",
      "8 day input [0.13104715 0.13063891 0.12451521 0.14696877 0.14798939 0.1551337\n",
      " 0.13921208 0.15717493 0.1612574  0.1796285  0.17860788 0.19310063\n",
      " 0.20902225 0.19065115 0.18044499 0.18248622 0.17697489 0.17677077\n",
      " 0.18044499 0.17758726 0.17595428 0.19840784 0.19044703 0.18738518\n",
      " 0.19432537 0.19677485 0.20228618 0.19677485 0.20004082 0.1998367\n",
      " 0.20208206 0.21310472 0.21555419 0.20493978 0.2173913  0.21269647\n",
      " 0.21535007 0.19799959 0.18983466 0.17636252 0.17391304 0.16350276\n",
      " 0.16431925 0.17187181 0.17370892 0.1796285  0.17391304 0.1612574\n",
      " 0.16942233 0.178812   0.17207593 0.16901408 0.17187181 0.17513778\n",
      " 0.18309859 0.19024291 0.18595632 0.19003878 0.1735048  0.1673811\n",
      " 0.16921821 0.17023882 0.16227802 0.15064299 0.15207185 0.15105123\n",
      " 0.14696877 0.14594815 0.14553991 0.12390284 0.13206777 0.11226781\n",
      " 0.119208   0.12655644 0.13512962 0.12982241 0.13431313 0.12676056\n",
      " 0.1314554  0.12737293 0.13512962 0.14553991 0.15370484 0.15145948\n",
      " 0.14227393 0.14901    0.1516636  0.15431721 0.14737702 0.16064503\n",
      " 0.16227802 0.16370688 0.15535614 0.15709259 0.15872689 0.1602338\n",
      " 0.16161224 0.16287392 0.1640361  0.16511685]\n",
      "8 day output [[0.16613287]]\n",
      "9 day input [0.13063891 0.12451521 0.14696877 0.14798939 0.1551337  0.13921208\n",
      " 0.15717493 0.1612574  0.1796285  0.17860788 0.19310063 0.20902225\n",
      " 0.19065115 0.18044499 0.18248622 0.17697489 0.17677077 0.18044499\n",
      " 0.17758726 0.17595428 0.19840784 0.19044703 0.18738518 0.19432537\n",
      " 0.19677485 0.20228618 0.19677485 0.20004082 0.1998367  0.20208206\n",
      " 0.21310472 0.21555419 0.20493978 0.2173913  0.21269647 0.21535007\n",
      " 0.19799959 0.18983466 0.17636252 0.17391304 0.16350276 0.16431925\n",
      " 0.17187181 0.17370892 0.1796285  0.17391304 0.1612574  0.16942233\n",
      " 0.178812   0.17207593 0.16901408 0.17187181 0.17513778 0.18309859\n",
      " 0.19024291 0.18595632 0.19003878 0.1735048  0.1673811  0.16921821\n",
      " 0.17023882 0.16227802 0.15064299 0.15207185 0.15105123 0.14696877\n",
      " 0.14594815 0.14553991 0.12390284 0.13206777 0.11226781 0.119208\n",
      " 0.12655644 0.13512962 0.12982241 0.13431313 0.12676056 0.1314554\n",
      " 0.12737293 0.13512962 0.14553991 0.15370484 0.15145948 0.14227393\n",
      " 0.14901    0.1516636  0.15431721 0.14737702 0.16064503 0.16227802\n",
      " 0.16370688 0.15535614 0.15709259 0.15872689 0.1602338  0.16161224\n",
      " 0.16287392 0.1640361  0.16511685 0.16613287]\n",
      "9 day output [[0.16709824]]\n",
      "10 day input [0.12451521 0.14696877 0.14798939 0.1551337  0.13921208 0.15717493\n",
      " 0.1612574  0.1796285  0.17860788 0.19310063 0.20902225 0.19065115\n",
      " 0.18044499 0.18248622 0.17697489 0.17677077 0.18044499 0.17758726\n",
      " 0.17595428 0.19840784 0.19044703 0.18738518 0.19432537 0.19677485\n",
      " 0.20228618 0.19677485 0.20004082 0.1998367  0.20208206 0.21310472\n",
      " 0.21555419 0.20493978 0.2173913  0.21269647 0.21535007 0.19799959\n",
      " 0.18983466 0.17636252 0.17391304 0.16350276 0.16431925 0.17187181\n",
      " 0.17370892 0.1796285  0.17391304 0.1612574  0.16942233 0.178812\n",
      " 0.17207593 0.16901408 0.17187181 0.17513778 0.18309859 0.19024291\n",
      " 0.18595632 0.19003878 0.1735048  0.1673811  0.16921821 0.17023882\n",
      " 0.16227802 0.15064299 0.15207185 0.15105123 0.14696877 0.14594815\n",
      " 0.14553991 0.12390284 0.13206777 0.11226781 0.119208   0.12655644\n",
      " 0.13512962 0.12982241 0.13431313 0.12676056 0.1314554  0.12737293\n",
      " 0.13512962 0.14553991 0.15370484 0.15145948 0.14227393 0.14901\n",
      " 0.1516636  0.15431721 0.14737702 0.16064503 0.16227802 0.16370688\n",
      " 0.15535614 0.15709259 0.15872689 0.1602338  0.16161224 0.16287392\n",
      " 0.1640361  0.16511685 0.16613287 0.16709824]\n",
      "10 day output [[0.16802391]]\n",
      "11 day input [0.14696877 0.14798939 0.1551337  0.13921208 0.15717493 0.1612574\n",
      " 0.1796285  0.17860788 0.19310063 0.20902225 0.19065115 0.18044499\n",
      " 0.18248622 0.17697489 0.17677077 0.18044499 0.17758726 0.17595428\n",
      " 0.19840784 0.19044703 0.18738518 0.19432537 0.19677485 0.20228618\n",
      " 0.19677485 0.20004082 0.1998367  0.20208206 0.21310472 0.21555419\n",
      " 0.20493978 0.2173913  0.21269647 0.21535007 0.19799959 0.18983466\n",
      " 0.17636252 0.17391304 0.16350276 0.16431925 0.17187181 0.17370892\n",
      " 0.1796285  0.17391304 0.1612574  0.16942233 0.178812   0.17207593\n",
      " 0.16901408 0.17187181 0.17513778 0.18309859 0.19024291 0.18595632\n",
      " 0.19003878 0.1735048  0.1673811  0.16921821 0.17023882 0.16227802\n",
      " 0.15064299 0.15207185 0.15105123 0.14696877 0.14594815 0.14553991\n",
      " 0.12390284 0.13206777 0.11226781 0.119208   0.12655644 0.13512962\n",
      " 0.12982241 0.13431313 0.12676056 0.1314554  0.12737293 0.13512962\n",
      " 0.14553991 0.15370484 0.15145948 0.14227393 0.14901    0.1516636\n",
      " 0.15431721 0.14737702 0.16064503 0.16227802 0.16370688 0.15535614\n",
      " 0.15709259 0.15872689 0.1602338  0.16161224 0.16287392 0.1640361\n",
      " 0.16511685 0.16613287 0.16709824 0.16802391]\n",
      "11 day output [[0.16891827]]\n",
      "12 day input [0.14798939 0.1551337  0.13921208 0.15717493 0.1612574  0.1796285\n",
      " 0.17860788 0.19310063 0.20902225 0.19065115 0.18044499 0.18248622\n",
      " 0.17697489 0.17677077 0.18044499 0.17758726 0.17595428 0.19840784\n",
      " 0.19044703 0.18738518 0.19432537 0.19677485 0.20228618 0.19677485\n",
      " 0.20004082 0.1998367  0.20208206 0.21310472 0.21555419 0.20493978\n",
      " 0.2173913  0.21269647 0.21535007 0.19799959 0.18983466 0.17636252\n",
      " 0.17391304 0.16350276 0.16431925 0.17187181 0.17370892 0.1796285\n",
      " 0.17391304 0.1612574  0.16942233 0.178812   0.17207593 0.16901408\n",
      " 0.17187181 0.17513778 0.18309859 0.19024291 0.18595632 0.19003878\n",
      " 0.1735048  0.1673811  0.16921821 0.17023882 0.16227802 0.15064299\n",
      " 0.15207185 0.15105123 0.14696877 0.14594815 0.14553991 0.12390284\n",
      " 0.13206777 0.11226781 0.119208   0.12655644 0.13512962 0.12982241\n",
      " 0.13431313 0.12676056 0.1314554  0.12737293 0.13512962 0.14553991\n",
      " 0.15370484 0.15145948 0.14227393 0.14901    0.1516636  0.15431721\n",
      " 0.14737702 0.16064503 0.16227802 0.16370688 0.15535614 0.15709259\n",
      " 0.15872689 0.1602338  0.16161224 0.16287392 0.1640361  0.16511685\n",
      " 0.16613287 0.16709824 0.16802391 0.16891827]\n",
      "12 day output [[0.16978721]]\n",
      "13 day input [0.1551337  0.13921208 0.15717493 0.1612574  0.1796285  0.17860788\n",
      " 0.19310063 0.20902225 0.19065115 0.18044499 0.18248622 0.17697489\n",
      " 0.17677077 0.18044499 0.17758726 0.17595428 0.19840784 0.19044703\n",
      " 0.18738518 0.19432537 0.19677485 0.20228618 0.19677485 0.20004082\n",
      " 0.1998367  0.20208206 0.21310472 0.21555419 0.20493978 0.2173913\n",
      " 0.21269647 0.21535007 0.19799959 0.18983466 0.17636252 0.17391304\n",
      " 0.16350276 0.16431925 0.17187181 0.17370892 0.1796285  0.17391304\n",
      " 0.1612574  0.16942233 0.178812   0.17207593 0.16901408 0.17187181\n",
      " 0.17513778 0.18309859 0.19024291 0.18595632 0.19003878 0.1735048\n",
      " 0.1673811  0.16921821 0.17023882 0.16227802 0.15064299 0.15207185\n",
      " 0.15105123 0.14696877 0.14594815 0.14553991 0.12390284 0.13206777\n",
      " 0.11226781 0.119208   0.12655644 0.13512962 0.12982241 0.13431313\n",
      " 0.12676056 0.1314554  0.12737293 0.13512962 0.14553991 0.15370484\n",
      " 0.15145948 0.14227393 0.14901    0.1516636  0.15431721 0.14737702\n",
      " 0.16064503 0.16227802 0.16370688 0.15535614 0.15709259 0.15872689\n",
      " 0.1602338  0.16161224 0.16287392 0.1640361  0.16511685 0.16613287\n",
      " 0.16709824 0.16802391 0.16891827 0.16978721]\n",
      "13 day output [[0.1706348]]\n",
      "14 day input [0.13921208 0.15717493 0.1612574  0.1796285  0.17860788 0.19310063\n",
      " 0.20902225 0.19065115 0.18044499 0.18248622 0.17697489 0.17677077\n",
      " 0.18044499 0.17758726 0.17595428 0.19840784 0.19044703 0.18738518\n",
      " 0.19432537 0.19677485 0.20228618 0.19677485 0.20004082 0.1998367\n",
      " 0.20208206 0.21310472 0.21555419 0.20493978 0.2173913  0.21269647\n",
      " 0.21535007 0.19799959 0.18983466 0.17636252 0.17391304 0.16350276\n",
      " 0.16431925 0.17187181 0.17370892 0.1796285  0.17391304 0.1612574\n",
      " 0.16942233 0.178812   0.17207593 0.16901408 0.17187181 0.17513778\n",
      " 0.18309859 0.19024291 0.18595632 0.19003878 0.1735048  0.1673811\n",
      " 0.16921821 0.17023882 0.16227802 0.15064299 0.15207185 0.15105123\n",
      " 0.14696877 0.14594815 0.14553991 0.12390284 0.13206777 0.11226781\n",
      " 0.119208   0.12655644 0.13512962 0.12982241 0.13431313 0.12676056\n",
      " 0.1314554  0.12737293 0.13512962 0.14553991 0.15370484 0.15145948\n",
      " 0.14227393 0.14901    0.1516636  0.15431721 0.14737702 0.16064503\n",
      " 0.16227802 0.16370688 0.15535614 0.15709259 0.15872689 0.1602338\n",
      " 0.16161224 0.16287392 0.1640361  0.16511685 0.16613287 0.16709824\n",
      " 0.16802391 0.16891827 0.16978721 0.17063481]\n",
      "14 day output [[0.17146382]]\n",
      "15 day input [0.15717493 0.1612574  0.1796285  0.17860788 0.19310063 0.20902225\n",
      " 0.19065115 0.18044499 0.18248622 0.17697489 0.17677077 0.18044499\n",
      " 0.17758726 0.17595428 0.19840784 0.19044703 0.18738518 0.19432537\n",
      " 0.19677485 0.20228618 0.19677485 0.20004082 0.1998367  0.20208206\n",
      " 0.21310472 0.21555419 0.20493978 0.2173913  0.21269647 0.21535007\n",
      " 0.19799959 0.18983466 0.17636252 0.17391304 0.16350276 0.16431925\n",
      " 0.17187181 0.17370892 0.1796285  0.17391304 0.1612574  0.16942233\n",
      " 0.178812   0.17207593 0.16901408 0.17187181 0.17513778 0.18309859\n",
      " 0.19024291 0.18595632 0.19003878 0.1735048  0.1673811  0.16921821\n",
      " 0.17023882 0.16227802 0.15064299 0.15207185 0.15105123 0.14696877\n",
      " 0.14594815 0.14553991 0.12390284 0.13206777 0.11226781 0.119208\n",
      " 0.12655644 0.13512962 0.12982241 0.13431313 0.12676056 0.1314554\n",
      " 0.12737293 0.13512962 0.14553991 0.15370484 0.15145948 0.14227393\n",
      " 0.14901    0.1516636  0.15431721 0.14737702 0.16064503 0.16227802\n",
      " 0.16370688 0.15535614 0.15709259 0.15872689 0.1602338  0.16161224\n",
      " 0.16287392 0.1640361  0.16511685 0.16613287 0.16709824 0.16802391\n",
      " 0.16891827 0.16978721 0.17063481 0.17146382]\n",
      "15 day output [[0.17227593]]\n",
      "16 day input [0.1612574  0.1796285  0.17860788 0.19310063 0.20902225 0.19065115\n",
      " 0.18044499 0.18248622 0.17697489 0.17677077 0.18044499 0.17758726\n",
      " 0.17595428 0.19840784 0.19044703 0.18738518 0.19432537 0.19677485\n",
      " 0.20228618 0.19677485 0.20004082 0.1998367  0.20208206 0.21310472\n",
      " 0.21555419 0.20493978 0.2173913  0.21269647 0.21535007 0.19799959\n",
      " 0.18983466 0.17636252 0.17391304 0.16350276 0.16431925 0.17187181\n",
      " 0.17370892 0.1796285  0.17391304 0.1612574  0.16942233 0.178812\n",
      " 0.17207593 0.16901408 0.17187181 0.17513778 0.18309859 0.19024291\n",
      " 0.18595632 0.19003878 0.1735048  0.1673811  0.16921821 0.17023882\n",
      " 0.16227802 0.15064299 0.15207185 0.15105123 0.14696877 0.14594815\n",
      " 0.14553991 0.12390284 0.13206777 0.11226781 0.119208   0.12655644\n",
      " 0.13512962 0.12982241 0.13431313 0.12676056 0.1314554  0.12737293\n",
      " 0.13512962 0.14553991 0.15370484 0.15145948 0.14227393 0.14901\n",
      " 0.1516636  0.15431721 0.14737702 0.16064503 0.16227802 0.16370688\n",
      " 0.15535614 0.15709259 0.15872689 0.1602338  0.16161224 0.16287392\n",
      " 0.1640361  0.16511685 0.16613287 0.16709824 0.16802391 0.16891827\n",
      " 0.16978721 0.17063481 0.17146382 0.17227593]\n",
      "16 day output [[0.17307214]]\n",
      "17 day input [0.1796285  0.17860788 0.19310063 0.20902225 0.19065115 0.18044499\n",
      " 0.18248622 0.17697489 0.17677077 0.18044499 0.17758726 0.17595428\n",
      " 0.19840784 0.19044703 0.18738518 0.19432537 0.19677485 0.20228618\n",
      " 0.19677485 0.20004082 0.1998367  0.20208206 0.21310472 0.21555419\n",
      " 0.20493978 0.2173913  0.21269647 0.21535007 0.19799959 0.18983466\n",
      " 0.17636252 0.17391304 0.16350276 0.16431925 0.17187181 0.17370892\n",
      " 0.1796285  0.17391304 0.1612574  0.16942233 0.178812   0.17207593\n",
      " 0.16901408 0.17187181 0.17513778 0.18309859 0.19024291 0.18595632\n",
      " 0.19003878 0.1735048  0.1673811  0.16921821 0.17023882 0.16227802\n",
      " 0.15064299 0.15207185 0.15105123 0.14696877 0.14594815 0.14553991\n",
      " 0.12390284 0.13206777 0.11226781 0.119208   0.12655644 0.13512962\n",
      " 0.12982241 0.13431313 0.12676056 0.1314554  0.12737293 0.13512962\n",
      " 0.14553991 0.15370484 0.15145948 0.14227393 0.14901    0.1516636\n",
      " 0.15431721 0.14737702 0.16064503 0.16227802 0.16370688 0.15535614\n",
      " 0.15709259 0.15872689 0.1602338  0.16161224 0.16287392 0.1640361\n",
      " 0.16511685 0.16613287 0.16709824 0.16802391 0.16891827 0.16978721\n",
      " 0.17063481 0.17146382 0.17227593 0.17307214]\n",
      "17 day output [[0.17385308]]\n",
      "18 day input [0.17860788 0.19310063 0.20902225 0.19065115 0.18044499 0.18248622\n",
      " 0.17697489 0.17677077 0.18044499 0.17758726 0.17595428 0.19840784\n",
      " 0.19044703 0.18738518 0.19432537 0.19677485 0.20228618 0.19677485\n",
      " 0.20004082 0.1998367  0.20208206 0.21310472 0.21555419 0.20493978\n",
      " 0.2173913  0.21269647 0.21535007 0.19799959 0.18983466 0.17636252\n",
      " 0.17391304 0.16350276 0.16431925 0.17187181 0.17370892 0.1796285\n",
      " 0.17391304 0.1612574  0.16942233 0.178812   0.17207593 0.16901408\n",
      " 0.17187181 0.17513778 0.18309859 0.19024291 0.18595632 0.19003878\n",
      " 0.1735048  0.1673811  0.16921821 0.17023882 0.16227802 0.15064299\n",
      " 0.15207185 0.15105123 0.14696877 0.14594815 0.14553991 0.12390284\n",
      " 0.13206777 0.11226781 0.119208   0.12655644 0.13512962 0.12982241\n",
      " 0.13431313 0.12676056 0.1314554  0.12737293 0.13512962 0.14553991\n",
      " 0.15370484 0.15145948 0.14227393 0.14901    0.1516636  0.15431721\n",
      " 0.14737702 0.16064503 0.16227802 0.16370688 0.15535614 0.15709259\n",
      " 0.15872689 0.1602338  0.16161224 0.16287392 0.1640361  0.16511685\n",
      " 0.16613287 0.16709824 0.16802391 0.16891827 0.16978721 0.17063481\n",
      " 0.17146382 0.17227593 0.17307214 0.17385308]\n",
      "18 day output [[0.17461915]]\n",
      "19 day input [0.19310063 0.20902225 0.19065115 0.18044499 0.18248622 0.17697489\n",
      " 0.17677077 0.18044499 0.17758726 0.17595428 0.19840784 0.19044703\n",
      " 0.18738518 0.19432537 0.19677485 0.20228618 0.19677485 0.20004082\n",
      " 0.1998367  0.20208206 0.21310472 0.21555419 0.20493978 0.2173913\n",
      " 0.21269647 0.21535007 0.19799959 0.18983466 0.17636252 0.17391304\n",
      " 0.16350276 0.16431925 0.17187181 0.17370892 0.1796285  0.17391304\n",
      " 0.1612574  0.16942233 0.178812   0.17207593 0.16901408 0.17187181\n",
      " 0.17513778 0.18309859 0.19024291 0.18595632 0.19003878 0.1735048\n",
      " 0.1673811  0.16921821 0.17023882 0.16227802 0.15064299 0.15207185\n",
      " 0.15105123 0.14696877 0.14594815 0.14553991 0.12390284 0.13206777\n",
      " 0.11226781 0.119208   0.12655644 0.13512962 0.12982241 0.13431313\n",
      " 0.12676056 0.1314554  0.12737293 0.13512962 0.14553991 0.15370484\n",
      " 0.15145948 0.14227393 0.14901    0.1516636  0.15431721 0.14737702\n",
      " 0.16064503 0.16227802 0.16370688 0.15535614 0.15709259 0.15872689\n",
      " 0.1602338  0.16161224 0.16287392 0.1640361  0.16511685 0.16613287\n",
      " 0.16709824 0.16802391 0.16891827 0.16978721 0.17063481 0.17146382\n",
      " 0.17227593 0.17307214 0.17385308 0.17461915]\n",
      "19 day output [[0.17537056]]\n",
      "20 day input [0.20902225 0.19065115 0.18044499 0.18248622 0.17697489 0.17677077\n",
      " 0.18044499 0.17758726 0.17595428 0.19840784 0.19044703 0.18738518\n",
      " 0.19432537 0.19677485 0.20228618 0.19677485 0.20004082 0.1998367\n",
      " 0.20208206 0.21310472 0.21555419 0.20493978 0.2173913  0.21269647\n",
      " 0.21535007 0.19799959 0.18983466 0.17636252 0.17391304 0.16350276\n",
      " 0.16431925 0.17187181 0.17370892 0.1796285  0.17391304 0.1612574\n",
      " 0.16942233 0.178812   0.17207593 0.16901408 0.17187181 0.17513778\n",
      " 0.18309859 0.19024291 0.18595632 0.19003878 0.1735048  0.1673811\n",
      " 0.16921821 0.17023882 0.16227802 0.15064299 0.15207185 0.15105123\n",
      " 0.14696877 0.14594815 0.14553991 0.12390284 0.13206777 0.11226781\n",
      " 0.119208   0.12655644 0.13512962 0.12982241 0.13431313 0.12676056\n",
      " 0.1314554  0.12737293 0.13512962 0.14553991 0.15370484 0.15145948\n",
      " 0.14227393 0.14901    0.1516636  0.15431721 0.14737702 0.16064503\n",
      " 0.16227802 0.16370688 0.15535614 0.15709259 0.15872689 0.1602338\n",
      " 0.16161224 0.16287392 0.1640361  0.16511685 0.16613287 0.16709824\n",
      " 0.16802391 0.16891827 0.16978721 0.17063481 0.17146382 0.17227593\n",
      " 0.17307214 0.17385308 0.17461915 0.17537056]\n",
      "20 day output [[0.17610751]]\n",
      "21 day input [0.19065115 0.18044499 0.18248622 0.17697489 0.17677077 0.18044499\n",
      " 0.17758726 0.17595428 0.19840784 0.19044703 0.18738518 0.19432537\n",
      " 0.19677485 0.20228618 0.19677485 0.20004082 0.1998367  0.20208206\n",
      " 0.21310472 0.21555419 0.20493978 0.2173913  0.21269647 0.21535007\n",
      " 0.19799959 0.18983466 0.17636252 0.17391304 0.16350276 0.16431925\n",
      " 0.17187181 0.17370892 0.1796285  0.17391304 0.1612574  0.16942233\n",
      " 0.178812   0.17207593 0.16901408 0.17187181 0.17513778 0.18309859\n",
      " 0.19024291 0.18595632 0.19003878 0.1735048  0.1673811  0.16921821\n",
      " 0.17023882 0.16227802 0.15064299 0.15207185 0.15105123 0.14696877\n",
      " 0.14594815 0.14553991 0.12390284 0.13206777 0.11226781 0.119208\n",
      " 0.12655644 0.13512962 0.12982241 0.13431313 0.12676056 0.1314554\n",
      " 0.12737293 0.13512962 0.14553991 0.15370484 0.15145948 0.14227393\n",
      " 0.14901    0.1516636  0.15431721 0.14737702 0.16064503 0.16227802\n",
      " 0.16370688 0.15535614 0.15709259 0.15872689 0.1602338  0.16161224\n",
      " 0.16287392 0.1640361  0.16511685 0.16613287 0.16709824 0.16802391\n",
      " 0.16891827 0.16978721 0.17063481 0.17146382 0.17227593 0.17307214\n",
      " 0.17385308 0.17461915 0.17537056 0.17610751]\n",
      "21 day output [[0.17683026]]\n",
      "22 day input [0.18044499 0.18248622 0.17697489 0.17677077 0.18044499 0.17758726\n",
      " 0.17595428 0.19840784 0.19044703 0.18738518 0.19432537 0.19677485\n",
      " 0.20228618 0.19677485 0.20004082 0.1998367  0.20208206 0.21310472\n",
      " 0.21555419 0.20493978 0.2173913  0.21269647 0.21535007 0.19799959\n",
      " 0.18983466 0.17636252 0.17391304 0.16350276 0.16431925 0.17187181\n",
      " 0.17370892 0.1796285  0.17391304 0.1612574  0.16942233 0.178812\n",
      " 0.17207593 0.16901408 0.17187181 0.17513778 0.18309859 0.19024291\n",
      " 0.18595632 0.19003878 0.1735048  0.1673811  0.16921821 0.17023882\n",
      " 0.16227802 0.15064299 0.15207185 0.15105123 0.14696877 0.14594815\n",
      " 0.14553991 0.12390284 0.13206777 0.11226781 0.119208   0.12655644\n",
      " 0.13512962 0.12982241 0.13431313 0.12676056 0.1314554  0.12737293\n",
      " 0.13512962 0.14553991 0.15370484 0.15145948 0.14227393 0.14901\n",
      " 0.1516636  0.15431721 0.14737702 0.16064503 0.16227802 0.16370688\n",
      " 0.15535614 0.15709259 0.15872689 0.1602338  0.16161224 0.16287392\n",
      " 0.1640361  0.16511685 0.16613287 0.16709824 0.16802391 0.16891827\n",
      " 0.16978721 0.17063481 0.17146382 0.17227593 0.17307214 0.17385308\n",
      " 0.17461915 0.17537056 0.17610751 0.17683026]\n",
      "22 day output [[0.17753889]]\n",
      "23 day input [0.18248622 0.17697489 0.17677077 0.18044499 0.17758726 0.17595428\n",
      " 0.19840784 0.19044703 0.18738518 0.19432537 0.19677485 0.20228618\n",
      " 0.19677485 0.20004082 0.1998367  0.20208206 0.21310472 0.21555419\n",
      " 0.20493978 0.2173913  0.21269647 0.21535007 0.19799959 0.18983466\n",
      " 0.17636252 0.17391304 0.16350276 0.16431925 0.17187181 0.17370892\n",
      " 0.1796285  0.17391304 0.1612574  0.16942233 0.178812   0.17207593\n",
      " 0.16901408 0.17187181 0.17513778 0.18309859 0.19024291 0.18595632\n",
      " 0.19003878 0.1735048  0.1673811  0.16921821 0.17023882 0.16227802\n",
      " 0.15064299 0.15207185 0.15105123 0.14696877 0.14594815 0.14553991\n",
      " 0.12390284 0.13206777 0.11226781 0.119208   0.12655644 0.13512962\n",
      " 0.12982241 0.13431313 0.12676056 0.1314554  0.12737293 0.13512962\n",
      " 0.14553991 0.15370484 0.15145948 0.14227393 0.14901    0.1516636\n",
      " 0.15431721 0.14737702 0.16064503 0.16227802 0.16370688 0.15535614\n",
      " 0.15709259 0.15872689 0.1602338  0.16161224 0.16287392 0.1640361\n",
      " 0.16511685 0.16613287 0.16709824 0.16802391 0.16891827 0.16978721\n",
      " 0.17063481 0.17146382 0.17227593 0.17307214 0.17385308 0.17461915\n",
      " 0.17537056 0.17610751 0.17683026 0.17753889]\n",
      "23 day output [[0.17823368]]\n",
      "24 day input [0.17697489 0.17677077 0.18044499 0.17758726 0.17595428 0.19840784\n",
      " 0.19044703 0.18738518 0.19432537 0.19677485 0.20228618 0.19677485\n",
      " 0.20004082 0.1998367  0.20208206 0.21310472 0.21555419 0.20493978\n",
      " 0.2173913  0.21269647 0.21535007 0.19799959 0.18983466 0.17636252\n",
      " 0.17391304 0.16350276 0.16431925 0.17187181 0.17370892 0.1796285\n",
      " 0.17391304 0.1612574  0.16942233 0.178812   0.17207593 0.16901408\n",
      " 0.17187181 0.17513778 0.18309859 0.19024291 0.18595632 0.19003878\n",
      " 0.1735048  0.1673811  0.16921821 0.17023882 0.16227802 0.15064299\n",
      " 0.15207185 0.15105123 0.14696877 0.14594815 0.14553991 0.12390284\n",
      " 0.13206777 0.11226781 0.119208   0.12655644 0.13512962 0.12982241\n",
      " 0.13431313 0.12676056 0.1314554  0.12737293 0.13512962 0.14553991\n",
      " 0.15370484 0.15145948 0.14227393 0.14901    0.1516636  0.15431721\n",
      " 0.14737702 0.16064503 0.16227802 0.16370688 0.15535614 0.15709259\n",
      " 0.15872689 0.1602338  0.16161224 0.16287392 0.1640361  0.16511685\n",
      " 0.16613287 0.16709824 0.16802391 0.16891827 0.16978721 0.17063481\n",
      " 0.17146382 0.17227593 0.17307214 0.17385308 0.17461915 0.17537056\n",
      " 0.17610751 0.17683026 0.17753889 0.17823368]\n",
      "24 day output [[0.17891489]]\n",
      "25 day input [0.17677077 0.18044499 0.17758726 0.17595428 0.19840784 0.19044703\n",
      " 0.18738518 0.19432537 0.19677485 0.20228618 0.19677485 0.20004082\n",
      " 0.1998367  0.20208206 0.21310472 0.21555419 0.20493978 0.2173913\n",
      " 0.21269647 0.21535007 0.19799959 0.18983466 0.17636252 0.17391304\n",
      " 0.16350276 0.16431925 0.17187181 0.17370892 0.1796285  0.17391304\n",
      " 0.1612574  0.16942233 0.178812   0.17207593 0.16901408 0.17187181\n",
      " 0.17513778 0.18309859 0.19024291 0.18595632 0.19003878 0.1735048\n",
      " 0.1673811  0.16921821 0.17023882 0.16227802 0.15064299 0.15207185\n",
      " 0.15105123 0.14696877 0.14594815 0.14553991 0.12390284 0.13206777\n",
      " 0.11226781 0.119208   0.12655644 0.13512962 0.12982241 0.13431313\n",
      " 0.12676056 0.1314554  0.12737293 0.13512962 0.14553991 0.15370484\n",
      " 0.15145948 0.14227393 0.14901    0.1516636  0.15431721 0.14737702\n",
      " 0.16064503 0.16227802 0.16370688 0.15535614 0.15709259 0.15872689\n",
      " 0.1602338  0.16161224 0.16287392 0.1640361  0.16511685 0.16613287\n",
      " 0.16709824 0.16802391 0.16891827 0.16978721 0.17063481 0.17146382\n",
      " 0.17227593 0.17307214 0.17385308 0.17461915 0.17537056 0.17610751\n",
      " 0.17683026 0.17753889 0.17823368 0.17891489]\n",
      "25 day output [[0.17958276]]\n",
      "26 day input [0.18044499 0.17758726 0.17595428 0.19840784 0.19044703 0.18738518\n",
      " 0.19432537 0.19677485 0.20228618 0.19677485 0.20004082 0.1998367\n",
      " 0.20208206 0.21310472 0.21555419 0.20493978 0.2173913  0.21269647\n",
      " 0.21535007 0.19799959 0.18983466 0.17636252 0.17391304 0.16350276\n",
      " 0.16431925 0.17187181 0.17370892 0.1796285  0.17391304 0.1612574\n",
      " 0.16942233 0.178812   0.17207593 0.16901408 0.17187181 0.17513778\n",
      " 0.18309859 0.19024291 0.18595632 0.19003878 0.1735048  0.1673811\n",
      " 0.16921821 0.17023882 0.16227802 0.15064299 0.15207185 0.15105123\n",
      " 0.14696877 0.14594815 0.14553991 0.12390284 0.13206777 0.11226781\n",
      " 0.119208   0.12655644 0.13512962 0.12982241 0.13431313 0.12676056\n",
      " 0.1314554  0.12737293 0.13512962 0.14553991 0.15370484 0.15145948\n",
      " 0.14227393 0.14901    0.1516636  0.15431721 0.14737702 0.16064503\n",
      " 0.16227802 0.16370688 0.15535614 0.15709259 0.15872689 0.1602338\n",
      " 0.16161224 0.16287392 0.1640361  0.16511685 0.16613287 0.16709824\n",
      " 0.16802391 0.16891827 0.16978721 0.17063481 0.17146382 0.17227593\n",
      " 0.17307214 0.17385308 0.17461915 0.17537056 0.17610751 0.17683026\n",
      " 0.17753889 0.17823368 0.17891489 0.17958276]\n",
      "26 day output [[0.18023758]]\n",
      "27 day input [0.17758726 0.17595428 0.19840784 0.19044703 0.18738518 0.19432537\n",
      " 0.19677485 0.20228618 0.19677485 0.20004082 0.1998367  0.20208206\n",
      " 0.21310472 0.21555419 0.20493978 0.2173913  0.21269647 0.21535007\n",
      " 0.19799959 0.18983466 0.17636252 0.17391304 0.16350276 0.16431925\n",
      " 0.17187181 0.17370892 0.1796285  0.17391304 0.1612574  0.16942233\n",
      " 0.178812   0.17207593 0.16901408 0.17187181 0.17513778 0.18309859\n",
      " 0.19024291 0.18595632 0.19003878 0.1735048  0.1673811  0.16921821\n",
      " 0.17023882 0.16227802 0.15064299 0.15207185 0.15105123 0.14696877\n",
      " 0.14594815 0.14553991 0.12390284 0.13206777 0.11226781 0.119208\n",
      " 0.12655644 0.13512962 0.12982241 0.13431313 0.12676056 0.1314554\n",
      " 0.12737293 0.13512962 0.14553991 0.15370484 0.15145948 0.14227393\n",
      " 0.14901    0.1516636  0.15431721 0.14737702 0.16064503 0.16227802\n",
      " 0.16370688 0.15535614 0.15709259 0.15872689 0.1602338  0.16161224\n",
      " 0.16287392 0.1640361  0.16511685 0.16613287 0.16709824 0.16802391\n",
      " 0.16891827 0.16978721 0.17063481 0.17146382 0.17227593 0.17307214\n",
      " 0.17385308 0.17461915 0.17537056 0.17610751 0.17683026 0.17753889\n",
      " 0.17823368 0.17891489 0.17958276 0.18023758]\n",
      "27 day output [[0.18087958]]\n",
      "28 day input [0.17595428 0.19840784 0.19044703 0.18738518 0.19432537 0.19677485\n",
      " 0.20228618 0.19677485 0.20004082 0.1998367  0.20208206 0.21310472\n",
      " 0.21555419 0.20493978 0.2173913  0.21269647 0.21535007 0.19799959\n",
      " 0.18983466 0.17636252 0.17391304 0.16350276 0.16431925 0.17187181\n",
      " 0.17370892 0.1796285  0.17391304 0.1612574  0.16942233 0.178812\n",
      " 0.17207593 0.16901408 0.17187181 0.17513778 0.18309859 0.19024291\n",
      " 0.18595632 0.19003878 0.1735048  0.1673811  0.16921821 0.17023882\n",
      " 0.16227802 0.15064299 0.15207185 0.15105123 0.14696877 0.14594815\n",
      " 0.14553991 0.12390284 0.13206777 0.11226781 0.119208   0.12655644\n",
      " 0.13512962 0.12982241 0.13431313 0.12676056 0.1314554  0.12737293\n",
      " 0.13512962 0.14553991 0.15370484 0.15145948 0.14227393 0.14901\n",
      " 0.1516636  0.15431721 0.14737702 0.16064503 0.16227802 0.16370688\n",
      " 0.15535614 0.15709259 0.15872689 0.1602338  0.16161224 0.16287392\n",
      " 0.1640361  0.16511685 0.16613287 0.16709824 0.16802391 0.16891827\n",
      " 0.16978721 0.17063481 0.17146382 0.17227593 0.17307214 0.17385308\n",
      " 0.17461915 0.17537056 0.17610751 0.17683026 0.17753889 0.17823368\n",
      " 0.17891489 0.17958276 0.18023758 0.18087958]\n",
      "28 day output [[0.18150914]]\n",
      "29 day input [0.19840784 0.19044703 0.18738518 0.19432537 0.19677485 0.20228618\n",
      " 0.19677485 0.20004082 0.1998367  0.20208206 0.21310472 0.21555419\n",
      " 0.20493978 0.2173913  0.21269647 0.21535007 0.19799959 0.18983466\n",
      " 0.17636252 0.17391304 0.16350276 0.16431925 0.17187181 0.17370892\n",
      " 0.1796285  0.17391304 0.1612574  0.16942233 0.178812   0.17207593\n",
      " 0.16901408 0.17187181 0.17513778 0.18309859 0.19024291 0.18595632\n",
      " 0.19003878 0.1735048  0.1673811  0.16921821 0.17023882 0.16227802\n",
      " 0.15064299 0.15207185 0.15105123 0.14696877 0.14594815 0.14553991\n",
      " 0.12390284 0.13206777 0.11226781 0.119208   0.12655644 0.13512962\n",
      " 0.12982241 0.13431313 0.12676056 0.1314554  0.12737293 0.13512962\n",
      " 0.14553991 0.15370484 0.15145948 0.14227393 0.14901    0.1516636\n",
      " 0.15431721 0.14737702 0.16064503 0.16227802 0.16370688 0.15535614\n",
      " 0.15709259 0.15872689 0.1602338  0.16161224 0.16287392 0.1640361\n",
      " 0.16511685 0.16613287 0.16709824 0.16802391 0.16891827 0.16978721\n",
      " 0.17063481 0.17146382 0.17227593 0.17307214 0.17385308 0.17461915\n",
      " 0.17537056 0.17610751 0.17683026 0.17753889 0.17823368 0.17891489\n",
      " 0.17958276 0.18023758 0.18087958 0.18150914]\n",
      "29 day output [[0.18212646]]\n",
      "[[0.15535613894462585], [0.15709258615970612], [0.15872688591480255], [0.16023379564285278], [0.16161224246025085], [0.16287392377853394], [0.1640360951423645], [0.16511684656143188], [0.1661328673362732], [0.1670982390642166], [0.16802391409873962], [0.16891826689243317], [0.1697872132062912], [0.17063480615615845], [0.17146381735801697], [0.17227593064308167], [0.17307214438915253], [0.1738530844449997], [0.1746191531419754], [0.17537055909633636], [0.1761075109243393], [0.1768302619457245], [0.1775388866662979], [0.17823368310928345], [0.1789148896932602], [0.17958275973796844], [0.1802375763654709], [0.18087957799434662], [0.1815091371536255], [0.1821264624595642]]\n"
     ]
    }
   ],
   "source": [
    "# demonstrate prediction for next 30 days\n",
    "from numpy import array\n",
    "\n",
    "lst_output=[]\n",
    "n_steps=100\n",
    "i=0\n",
    "while(i<30):\n",
    "    \n",
    "    if(len(temp_input)>100):\n",
    "        #print(temp_input)\n",
    "        x_input=np.array(temp_input[1:])\n",
    "        print(\"{} day input {}\".format(i,x_input))\n",
    "        x_input=x_input.reshape(1,-1)\n",
    "        x_input = x_input.reshape((1, n_steps, 1))\n",
    "        #print(x_input)\n",
    "        yhat = model.predict(x_input, verbose=0)\n",
    "        print(\"{} day output {}\".format(i,yhat))\n",
    "        temp_input.extend(yhat[0].tolist())\n",
    "        temp_input=temp_input[1:]\n",
    "        #print(temp_input)\n",
    "        lst_output.extend(yhat.tolist())\n",
    "        i=i+1\n",
    "    else:\n",
    "        x_input = x_input.reshape((1, n_steps,1))\n",
    "        yhat = model.predict(x_input, verbose=0)\n",
    "        print(yhat[0])\n",
    "        temp_input.extend(yhat[0].tolist())\n",
    "        print(len(temp_input))\n",
    "        lst_output.extend(yhat.tolist())\n",
    "        i=i+1\n",
    "    \n",
    "\n",
    "print(lst_output)                                            "
   ]
  },
  {
   "cell_type": "code",
   "execution_count": 40,
   "metadata": {},
   "outputs": [],
   "source": [
    "day_new=np.arange(1,101)\n",
    "day_pred=np.arange(101,131)"
   ]
  },
  {
   "cell_type": "code",
   "execution_count": 41,
   "metadata": {},
   "outputs": [],
   "source": [
    "import matplotlib.pyplot as plt"
   ]
  },
  {
   "cell_type": "code",
   "execution_count": 42,
   "metadata": {},
   "outputs": [
    {
     "data": {
      "text/plain": [
       "2035"
      ]
     },
     "execution_count": 42,
     "metadata": {},
     "output_type": "execute_result"
    }
   ],
   "source": [
    "len(df1)"
   ]
  },
  {
   "cell_type": "code",
   "execution_count": 43,
   "metadata": {},
   "outputs": [
    {
     "data": {
      "text/plain": [
       "[<matplotlib.lines.Line2D at 0x1a758ad3b50>]"
      ]
     },
     "execution_count": 43,
     "metadata": {},
     "output_type": "execute_result"
    },
    {
     "data": {
      "image/png": "[encoded data removed]",
      "text/plain": [
       "<Figure size 432x288 with 1 Axes>"
      ]
     },
     "metadata": {
      "needs_background": "light"
     },
     "output_type": "display_data"
    }
   ],
   "source": [
    "plt.plot(day_new,scaler.inverse_transform(df1[1935:]))\n",
    "plt.plot(day_pred,scaler.inverse_transform(lst_output))"
   ]
  },
  {
   "cell_type": "code",
   "execution_count": 44,
   "metadata": {},
   "outputs": [
    {
     "data": {
      "text/plain": [
       "[<matplotlib.lines.Line2D at 0x1a758b4af20>]"
      ]
     },
     "execution_count": 44,
     "metadata": {},
     "output_type": "execute_result"
    },
    {
     "data": {
      "image/png": "[encoded data removed]",
      "text/plain": [
       "<Figure size 432x288 with 1 Axes>"
      ]
     },
     "metadata": {
      "needs_background": "light"
     },
     "output_type": "display_data"
    }
   ],
   "source": [
    "df3=df1.tolist()\n",
    "df3.extend(lst_output)\n",
    "plt.plot(df3[1200:])"
   ]
  },
  {
   "cell_type": "code",
   "execution_count": 45,
   "metadata": {},
   "outputs": [],
   "source": [
    "df3=scaler.inverse_transform(df3).tolist()"
   ]
  },
  {
   "cell_type": "code",
   "execution_count": 46,
   "metadata": {},
   "outputs": [
    {
     "data": {
      "text/plain": [
       "[<matplotlib.lines.Line2D at 0x1a758baed70>]"
      ]
     },
     "execution_count": 46,
     "metadata": {},
     "output_type": "execute_result"
    },
    {
     "data": {
      "image/png": "[encoded data removed]",
      "text/plain": [
       "<Figure size 432x288 with 1 Axes>"
      ]
     },
     "metadata": {
      "needs_background": "light"
     },
     "output_type": "display_data"
    }
   ],
   "source": [
    "plt.plot(df3)"
   ]
  }
 ],
 "metadata": {
  "interpreter": {
   "hash": "e1e1bb6dfa37b622328296b7fb40ed2c58ec07646173867f6106f9be0724290b"
  },
  "kernelspec": {
   "display_name": "Python 3.10.2 64-bit",
   "language": "python",
   "name": "python3"
  },
  "language_info": {
   "codemirror_mode": {
    "name": "ipython",
    "version": 3
   },
   "file_extension": ".py",
   "mimetype": "text/x-python",
   "name": "python",
   "nbconvert_exporter": "python",
   "pygments_lexer": "ipython3",
   "version": "3.10.2"
  },
  "orig_nbformat": 4
 },
 "nbformat": 4,
 "nbformat_minor": 2
}
